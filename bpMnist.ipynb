{
 "cells": [
  {
   "cell_type": "code",
   "execution_count": 372,
   "metadata": {},
   "outputs": [],
   "source": [
    "import pandas as pd\n",
    "import numpy as np\n",
    "import seaborn as sns\n",
    "import matplotlib.pyplot as plt\n",
    "import pickle"
   ]
  },
  {
   "cell_type": "code",
   "execution_count": 378,
   "metadata": {},
   "outputs": [
    {
     "name": "stdout",
     "output_type": "stream",
     "text": [
      "pandas==1.1.0\n",
      "numpy==1.19.1\n",
      "seaborn==0.10.1\n",
      "matplotlib==3.3.1\n",
      "sklearn==0.23.2\n",
      "opencv-python==4.4.0\n"
     ]
    }
   ],
   "source": [
    "print('pandas=='+pd.__version__)\n",
    "print('numpy=='+np.__version__)\n",
    "print('seaborn=='+sns.__version__)\n",
    "print('matplotlib=='+matplotlib.__version__)\n",
    "print('sklearn=='+sklearn.__version__)\n",
    "print('opencv-python=='+cv2.__version__)"
   ]
  },
  {
   "cell_type": "markdown",
   "metadata": {},
   "source": [
    "## data checking"
   ]
  },
  {
   "cell_type": "code",
   "execution_count": 2,
   "metadata": {},
   "outputs": [],
   "source": [
    "df = pd.read_csv('ds_challenge_train.csv',low_memory=False,header=None)"
   ]
  },
  {
   "cell_type": "code",
   "execution_count": 3,
   "metadata": {},
   "outputs": [
    {
     "data": {
      "text/plain": [
       "<AxesSubplot:xlabel='0', ylabel='count'>"
      ]
     },
     "execution_count": 3,
     "metadata": {},
     "output_type": "execute_result"
    },
    {
     "data": {
      "image/png": "[encoded data removed]",
      "text/plain": [
       "<Figure size 432x288 with 1 Axes>"
      ]
     },
     "metadata": {
      "needs_background": "light"
     },
     "output_type": "display_data"
    }
   ],
   "source": [
    "sns.countplot(df[0])"
   ]
  },
  {
   "cell_type": "code",
   "execution_count": 4,
   "metadata": {},
   "outputs": [],
   "source": [
    "##### data look balance enough"
   ]
  },
  {
   "cell_type": "code",
   "execution_count": 5,
   "metadata": {},
   "outputs": [
    {
     "data": {
      "text/plain": [
       "False"
      ]
     },
     "execution_count": 5,
     "metadata": {},
     "output_type": "execute_result"
    }
   ],
   "source": [
    "#### check any NA\n",
    "df.isna().any().any()"
   ]
  },
  {
   "cell_type": "code",
   "execution_count": 6,
   "metadata": {},
   "outputs": [],
   "source": [
    "### no NAN for the missing"
   ]
  },
  {
   "cell_type": "code",
   "execution_count": 7,
   "metadata": {},
   "outputs": [
    {
     "data": {
      "text/plain": [
       "(array([0, 1, 2, 3, 4, 5, 6, 7, 8, 9]),\n",
       " array([1962, 2243, 1989, 2021, 1924, 1761, 2039, 2126, 1912, 2023]))"
      ]
     },
     "execution_count": 7,
     "metadata": {},
     "output_type": "execute_result"
    }
   ],
   "source": [
    "np.unique(df[0],return_counts=True)"
   ]
  },
  {
   "cell_type": "code",
   "execution_count": 8,
   "metadata": {},
   "outputs": [
    {
     "data": {
      "text/plain": [
       "array([0, 0, '0', '0', '0', '0', '0', '0', '0', '0', '0', '0', '0', '0',\n",
       "       '0', '0', '0', '0', '0', '0', '0', '0', '0', '0', '0', '0', '0',\n",
       "       '0', '0', '0', '0', '0', '0', '0', '0', '0', '0', '0', '0', '0',\n",
       "       '0', '0', '0', '0', '0', '0', '0', '0', '0', '0', '0', '0', '0',\n",
       "       '0', '0', '0', '0', '0', '0', '0', '0', '0', '0', '0', '0', '0',\n",
       "       '0', '0', '0', '0', '0', '0', '0', '0', '0', '0', '0', '0', '0',\n",
       "       '0', '0', '0', '0', '0', '0', '0', '0', '0', '0', '0', '0', '0',\n",
       "       '0', '0', '0', '0', '0', '0', '0', '0', '0', '0', '0', '0', '0',\n",
       "       '0', '0', '0', '0', '0', '0', '0', '0', '0', '0', '0', '0', '0',\n",
       "       '0', '0', '0', '0', '24', '67', '67', '18', '0', '0', '0', '0',\n",
       "       '0', '0', '0', '0', '0', '0', '0', '0', '0', '0', '0', '0', '0',\n",
       "       '0', '0', '0', '0', '0', '0', '0', '131', '252', '252', '66', '0',\n",
       "       '0', '0', '0', '0', '0', '0', '0', '0', '0', '0', '0', '0', '0',\n",
       "       '0', '0', '0', '0', '0', '0', '0', '0', '0', '159', '250', '232',\n",
       "       '30', '32', '0', '0', '0', '0', '0', '0', '0', '0', '0', '0', '0',\n",
       "       '0', '0', '0', '0', '0', '0', '0', '0', '0', '0', '0', '15', '222',\n",
       "       '252', '108', '0', '0', '0', '0', '0', '0', '0', '0', '0', '0',\n",
       "       '0', '0', '0', '0', '0', '0', '0', '0', '0', '0', '0', '0', '0',\n",
       "       '0', '147', '252', '183', '5', '0', '0', '0', '0', '0', '0', '0',\n",
       "       '20', '89', '89', '73', '0', '0', '0', '0', '0', '0', '0', '0',\n",
       "       '0', '0', '0', '0', '48', '247', '252', '159', '0', '0', '0', '0',\n",
       "       '0', '0', '0', '79', '236', '252', '252', '249', '198', '16', '0',\n",
       "       '0', '0', '0', '0', '0', '0', '0', '0', '41', '193', '252', '199',\n",
       "       '22', '0', '0', '0', '0', '0', '12', '135', '248', '252', '252',\n",
       "       '252', '252', '252', '100', '0', '0', '0', '0', '0', '0', '0', '0',\n",
       "       '0', '100', '252', '252', '88', '0', '0', '0', '0', '0', '11',\n",
       "       '171', '252', '252', '235', '175', '178', '252', '252', '224', '0',\n",
       "       '0', '0', '0', '0', '0', '0', '0', '15', '209', '252', '233', '12',\n",
       "       '0', '0', '0', '0', '49', '177', '252', '252', '89', '26', '0',\n",
       "       '2', '166', '252', '252', '0', '0', '0', '0', '0', '0', '0', '0',\n",
       "       '96', '253', '253', '59', '0', '0', '0', '0', '11', '177', '255',\n",
       "       '253', '92', '0', '0', '0', '0', '155', '253', '128', '0', '0',\n",
       "       '0', '0', '0', '0', '0', '0', '143', '252', '252', '10', '0', '0',\n",
       "       '0', 12, 171, 252, 216, 110, 13, 0, 0, 0, 3, 180, 232, 24, 0, 0, 0,\n",
       "       0, 0, 0, 0, 0, 143, 252, 170, 2, 0, 0, 0, 135, 252, 209, 19, 0, 0,\n",
       "       0, 0, 0, 12, 252, 132, 0, 0, 0, 0, 0, 0, 0, 0, 0, 249, 252, 96, 0,\n",
       "       0, 0, 21, 248, 246, 34, 0, 0, 0, 0, 5, 61, 234, 152, 3, 0, 0, 0, 0,\n",
       "       0, 0, 0, 0, 0, 253, 252, 44, 0, 0, 0, 145, 252, 104, 0, 0, 0, 46,\n",
       "       114, 184, 252, 149, 34, 0, 0, 0, 0, 0, 0, 0, 0, 0, 0, 253, 252, 82,\n",
       "       0, 0, 31, 239, 252, 66, 39, 89, 165, 243, 252, 233, 126, 5, 0, 0,\n",
       "       0, 0, 0, 0, 0, 0, 0, 0, 0, 249, 252, 244, 126, 98, 143, 252, 252,\n",
       "       237, 240, 253, 252, 243, 174, 17, 0, 0, 0, 0, 0, 0, 0, 0, 0, 0, 0,\n",
       "       0, 0, 119, 239, 252, 252, 252, 252, 252, 252, 252, 252, 228, 179,\n",
       "       17, 0, 0, 0, 0, 0, 0, 0, 0, 0, 0, 0, 0, 0, 0, 0, 0, 46, 66, 66, 66,\n",
       "       66, 66, 66, 66, 66, 29, 0, 0, 0, 0, 0, 0, 0, 0, 0, 0, 0, 0, 0, 0,\n",
       "       0, 0, 0, 0, 0, 0, 0, 0, 0, 0, 0, 0, 0, 0, 0, 0, 0, 0, 0, 0, 0, 0,\n",
       "       0, 0, 0, 0, 0, 0, 0, 0, 0, 0, 0, 0, 0, 0, 0, 0, 0, 0, 0, 0, 0, 0,\n",
       "       0, 0, 0, 0, 0, 0, 0, 0, 0, 0, 0, 0, 0, 0, 0, 0, 0, 0, 0, 0, 0, 0,\n",
       "       0, 0, 0, 0, 0, 0, 0, 0, 0, 0, 0, 0, 0, 0, 0, 0, 0, 0, 0, 0, 0, 0,\n",
       "       0, 0, 0, 0, 0, 0, 0, 0, 0, 0, 0, 0, 0, 0, 0, 0, 0, 0, 0, 0, 0, 0,\n",
       "       0, 0, 0, 0, 0, 0, 0, 0, 0, 0, 0, 0, 0, 0, 0, 0, 0, 0, 0, 0, 0, 0,\n",
       "       0, 0, 0, 0, 0, 0, 0, 0, 0, 0, 0, 0, 0, 0, 0, 0, 0, 0, 0, 0, 0, 0,\n",
       "       0, 0, 0, 0, 0, 0, 0, 0, 0, 0, 0, 0], dtype=object)"
      ]
     },
     "execution_count": 8,
     "metadata": {},
     "output_type": "execute_result"
    }
   ],
   "source": [
    "np.array(df.loc[0][1:])\n",
    "## there is a string columns in here"
   ]
  },
  {
   "cell_type": "code",
   "execution_count": 9,
   "metadata": {},
   "outputs": [
    {
     "name": "stdout",
     "output_type": "stream",
     "text": [
      "<class 'pandas.core.frame.DataFrame'>\n",
      "RangeIndex: 20000 entries, 0 to 19999\n",
      "Columns: 785 entries, 0 to 784\n",
      "dtypes: int64(383), object(402)\n",
      "memory usage: 119.8+ MB\n"
     ]
    }
   ],
   "source": [
    "df.info()"
   ]
  },
  {
   "cell_type": "code",
   "execution_count": 10,
   "metadata": {},
   "outputs": [],
   "source": [
    "#### int64\n",
    "### 402 objects ????"
   ]
  },
  {
   "cell_type": "code",
   "execution_count": 11,
   "metadata": {},
   "outputs": [
    {
     "name": "stdout",
     "output_type": "stream",
     "text": [
      "invalid literal for int() with base 10: '-'\n"
     ]
    }
   ],
   "source": [
    "## try parse\n",
    "for i in df.columns:\n",
    "    try:\n",
    "        df[i] = df[i].astype(int)\n",
    "    except Exception as e:\n",
    "        print(e)\n",
    "        break"
   ]
  },
  {
   "cell_type": "code",
   "execution_count": 12,
   "metadata": {},
   "outputs": [],
   "source": [
    "##### parse fail\n",
    "##### check - \n",
    "#### get row where value cant be parse\n",
    "def getNotANumber(d):\n",
    "    try:\n",
    "        float(d)\n",
    "        return False\n",
    "    except: \n",
    "        return True"
   ]
  },
  {
   "cell_type": "code",
   "execution_count": 13,
   "metadata": {},
   "outputs": [],
   "source": [
    "#### get not a number index\n",
    "nanInd = []\n",
    "for i in df.columns:\n",
    "    nanInd += list(df[df[i].apply(getNotANumber)].index)"
   ]
  },
  {
   "cell_type": "code",
   "execution_count": 14,
   "metadata": {},
   "outputs": [],
   "source": [
    "nanInd= set(nanInd)"
   ]
  },
  {
   "cell_type": "code",
   "execution_count": 15,
   "metadata": {},
   "outputs": [],
   "source": [
    "nonNumberdf = df.loc[nanInd].copy()"
   ]
  },
  {
   "cell_type": "code",
   "execution_count": 16,
   "metadata": {},
   "outputs": [
    {
     "data": {
      "text/plain": [
       "<AxesSubplot:xlabel='0', ylabel='count'>"
      ]
     },
     "execution_count": 16,
     "metadata": {},
     "output_type": "execute_result"
    },
    {
     "data": {
      "image/png": "[encoded data removed]",
      "text/plain": [
       "<Figure size 432x288 with 1 Axes>"
      ]
     },
     "metadata": {
      "needs_background": "light"
     },
     "output_type": "display_data"
    }
   ],
   "source": [
    "sns.countplot(nonNumberdf[0])"
   ]
  },
  {
   "cell_type": "code",
   "execution_count": 17,
   "metadata": {},
   "outputs": [],
   "source": [
    "r = 0"
   ]
  },
  {
   "cell_type": "code",
   "execution_count": 18,
   "metadata": {},
   "outputs": [
    {
     "data": {
      "image/png": "[encoded data removed]",
      "text/plain": [
       "<Figure size 432x288 with 1 Axes>"
      ]
     },
     "metadata": {
      "needs_background": "light"
     },
     "output_type": "display_data"
    },
    {
     "data": {
      "image/png": "[encoded data removed]",
      "text/plain": [
       "<Figure size 432x288 with 1 Axes>"
      ]
     },
     "metadata": {
      "needs_background": "light"
     },
     "output_type": "display_data"
    },
    {
     "data": {
      "image/png": "[encoded data removed]",
      "text/plain": [
       "<Figure size 432x288 with 1 Axes>"
      ]
     },
     "metadata": {
      "needs_background": "light"
     },
     "output_type": "display_data"
    },
    {
     "data": {
      "image/png": "[encoded data removed]",
      "text/plain": [
       "<Figure size 432x288 with 1 Axes>"
      ]
     },
     "metadata": {
      "needs_background": "light"
     },
     "output_type": "display_data"
    },
    {
     "data": {
      "image/png": "[encoded data removed]",
      "text/plain": [
       "<Figure size 432x288 with 1 Axes>"
      ]
     },
     "metadata": {
      "needs_background": "light"
     },
     "output_type": "display_data"
    },
    {
     "data": {
      "image/png": "[encoded data removed]",
      "text/plain": [
       "<Figure size 432x288 with 1 Axes>"
      ]
     },
     "metadata": {
      "needs_background": "light"
     },
     "output_type": "display_data"
    },
    {
     "data": {
      "image/png": "[encoded data removed]",
      "text/plain": [
       "<Figure size 432x288 with 1 Axes>"
      ]
     },
     "metadata": {
      "needs_background": "light"
     },
     "output_type": "display_data"
    },
    {
     "data": {
      "image/png": "[encoded data removed]",
      "text/plain": [
       "<Figure size 432x288 with 1 Axes>"
      ]
     },
     "metadata": {
      "needs_background": "light"
     },
     "output_type": "display_data"
    },
    {
     "data": {
      "image/png": "[encoded data removed]",
      "text/plain": [
       "<Figure size 432x288 with 1 Axes>"
      ]
     },
     "metadata": {
      "needs_background": "light"
     },
     "output_type": "display_data"
    },
    {
     "data": {
      "image/png": "[encoded data removed]",
      "text/plain": [
       "<Figure size 432x288 with 1 Axes>"
      ]
     },
     "metadata": {
      "needs_background": "light"
     },
     "output_type": "display_data"
    },
    {
     "data": {
      "image/png": "[encoded data removed]",
      "text/plain": [
       "<Figure size 432x288 with 1 Axes>"
      ]
     },
     "metadata": {
      "needs_background": "light"
     },
     "output_type": "display_data"
    },
    {
     "data": {
      "image/png": "[encoded data removed]",
      "text/plain": [
       "<Figure size 432x288 with 1 Axes>"
      ]
     },
     "metadata": {
      "needs_background": "light"
     },
     "output_type": "display_data"
    },
    {
     "data": {
      "image/png": "[encoded data removed]",
      "text/plain": [
       "<Figure size 432x288 with 1 Axes>"
      ]
     },
     "metadata": {
      "needs_background": "light"
     },
     "output_type": "display_data"
    },
    {
     "data": {
      "image/png": "[encoded data removed]",
      "text/plain": [
       "<Figure size 432x288 with 1 Axes>"
      ]
     },
     "metadata": {
      "needs_background": "light"
     },
     "output_type": "display_data"
    },
    {
     "data": {
      "image/png": "[encoded data removed]",
      "text/plain": [
       "<Figure size 432x288 with 1 Axes>"
      ]
     },
     "metadata": {
      "needs_background": "light"
     },
     "output_type": "display_data"
    },
    {
     "data": {
      "image/png": "[encoded data removed]",
      "text/plain": [
       "<Figure size 432x288 with 1 Axes>"
      ]
     },
     "metadata": {
      "needs_background": "light"
     },
     "output_type": "display_data"
    },
    {
     "data": {
      "image/png": "[encoded data removed]",
      "text/plain": [
       "<Figure size 432x288 with 1 Axes>"
      ]
     },
     "metadata": {
      "needs_background": "light"
     },
     "output_type": "display_data"
    },
    {
     "data": {
      "image/png": "[encoded data removed]",
      "text/plain": [
       "<Figure size 432x288 with 1 Axes>"
      ]
     },
     "metadata": {
      "needs_background": "light"
     },
     "output_type": "display_data"
    },
    {
     "data": {
      "image/png": "[encoded data removed]",
      "text/plain": [
       "<Figure size 432x288 with 1 Axes>"
      ]
     },
     "metadata": {
      "needs_background": "light"
     },
     "output_type": "display_data"
    },
    {
     "data": {
      "image/png": "[encoded data removed]",
      "text/plain": [
       "<Figure size 432x288 with 1 Axes>"
      ]
     },
     "metadata": {
      "needs_background": "light"
     },
     "output_type": "display_data"
    }
   ],
   "source": [
    "for i in range(r,r+20):\n",
    "    plt.imshow(np.array(nonNumberdf.iloc[i].astype(str).str.replace('-','255').astype(int)[1:]).reshape(28,28))\n",
    "    plt.show()\n",
    "r+=20"
   ]
  },
  {
   "cell_type": "code",
   "execution_count": 19,
   "metadata": {},
   "outputs": [],
   "source": [
    "### after looking throught missing on the top and mostly can still be tell the number even with 0 fill except where almost half of the picture is missing\n",
    "### with limited time and resources let just drop the one that was about half missing\n",
    "### other option of dealing KNN, Variational Auto Encode (should be the most effective one)"
   ]
  },
  {
   "cell_type": "code",
   "execution_count": 20,
   "metadata": {},
   "outputs": [],
   "source": [
    "def countDash(d):\n",
    "    ret = 0\n",
    "    for i in d:\n",
    "        if(i=='-'):\n",
    "            ret+=1\n",
    "    return ret"
   ]
  },
  {
   "cell_type": "code",
   "execution_count": 21,
   "metadata": {},
   "outputs": [],
   "source": [
    "nonNumberdf['missingCount'] = nonNumberdf.apply(countDash,axis=1)"
   ]
  },
  {
   "cell_type": "code",
   "execution_count": 22,
   "metadata": {},
   "outputs": [
    {
     "data": {
      "text/plain": [
       "<AxesSubplot:xlabel='missingCount'>"
      ]
     },
     "execution_count": 22,
     "metadata": {},
     "output_type": "execute_result"
    },
    {
     "data": {
      "image/png": "[encoded data removed]",
      "text/plain": [
       "<Figure size 432x288 with 1 Axes>"
      ]
     },
     "metadata": {
      "needs_background": "light"
     },
     "output_type": "display_data"
    }
   ],
   "source": [
    "sns.distplot(nonNumberdf['missingCount'] )"
   ]
  },
  {
   "cell_type": "code",
   "execution_count": 23,
   "metadata": {},
   "outputs": [
    {
     "data": {
      "text/plain": [
       "<AxesSubplot:xlabel='missingCount', ylabel='count'>"
      ]
     },
     "execution_count": 23,
     "metadata": {},
     "output_type": "execute_result"
    },
    {
     "data": {
      "image/png": "[encoded data removed]",
      "text/plain": [
       "<Figure size 432x288 with 1 Axes>"
      ]
     },
     "metadata": {
      "needs_background": "light"
     },
     "output_type": "display_data"
    }
   ],
   "source": [
    "sns.countplot(nonNumberdf['missingCount'] )"
   ]
  },
  {
   "cell_type": "code",
   "execution_count": 24,
   "metadata": {},
   "outputs": [],
   "source": [
    "## morethan~25% missing drop\n",
    "dropInd = nonNumberdf[nonNumberdf['missingCount']>200].index"
   ]
  },
  {
   "cell_type": "code",
   "execution_count": 25,
   "metadata": {},
   "outputs": [
    {
     "data": {
      "text/plain": [
       "count    383.000000\n",
       "mean     217.281984\n",
       "std       85.791168\n",
       "min        0.000000\n",
       "25%      254.000000\n",
       "50%      255.000000\n",
       "75%      255.000000\n",
       "max      255.000000\n",
       "Name: max, dtype: float64"
      ]
     },
     "execution_count": 25,
     "metadata": {},
     "output_type": "execute_result"
    }
   ],
   "source": [
    "### check if there is somthing morethan 255\n",
    "df.describe().loc['max'].describe()\n",
    "# (df[df.columns[1:]]>255).any().any()"
   ]
  },
  {
   "cell_type": "code",
   "execution_count": 26,
   "metadata": {},
   "outputs": [],
   "source": [
    "df = df.drop(dropInd)"
   ]
  },
  {
   "cell_type": "code",
   "execution_count": 27,
   "metadata": {},
   "outputs": [],
   "source": [
    "### parse and replace\n",
    "for i in df.columns:\n",
    "    try:\n",
    "        df[i] = df[i].astype(int)\n",
    "    except:\n",
    "        df[i] = df[i].str.replace('-','0').astype(int)"
   ]
  },
  {
   "cell_type": "code",
   "execution_count": 28,
   "metadata": {},
   "outputs": [],
   "source": [
    "df.to_csv('droppedTrainingData.csv',index=False)"
   ]
  },
  {
   "cell_type": "markdown",
   "metadata": {},
   "source": [
    "## Preprocess and Modeling"
   ]
  },
  {
   "cell_type": "code",
   "execution_count": 147,
   "metadata": {},
   "outputs": [],
   "source": [
    "from sklearn.decomposition import PCA\n",
    "from sklearn.model_selection import train_test_split, GridSearchCV\n",
    "from sklearn.svm import SVC\n",
    "from sklearn.metrics import confusion_matrix\n",
    "from sklearn.pipeline import Pipeline"
   ]
  },
  {
   "cell_type": "code",
   "execution_count": 42,
   "metadata": {},
   "outputs": [],
   "source": [
    "y = df[0]\n",
    "X = df.drop(0,axis=1)\n",
    "## normalize color Value\n",
    "X = X/255"
   ]
  },
  {
   "cell_type": "code",
   "execution_count": 45,
   "metadata": {},
   "outputs": [],
   "source": [
    "#### Splitting #### (FirstTime)\n",
    "# X_train, X_test, y_train, y_test = train_test_split(X, y,test_size=0.2,stratify=y)\n",
    "# with open('train_test_splittedData.pkl', 'wb') as file:\n",
    "#     pickle.dump([X_train, X_test, y_train, y_test],file)\n",
    "\n",
    "#### for repetition purpose Load the file ###\n",
    "with open('train_test_splittedData.pkl', 'rb') as file:\n",
    "    X_train, X_test, y_train, y_test = pickle.load(file)"
   ]
  },
  {
   "cell_type": "markdown",
   "metadata": {},
   "source": [
    "### no preprocessing "
   ]
  },
  {
   "cell_type": "code",
   "execution_count": 48,
   "metadata": {},
   "outputs": [],
   "source": [
    "### linear SVM"
   ]
  },
  {
   "cell_type": "code",
   "execution_count": 49,
   "metadata": {},
   "outputs": [
    {
     "data": {
      "text/plain": [
       "GridSearchCV(cv=10, estimator=SVC(kernel='linear'),\n",
       "             param_grid={'C': [0.01, 0.1, 1, 10, 100]})"
      ]
     },
     "execution_count": 49,
     "metadata": {},
     "output_type": "execute_result"
    }
   ],
   "source": [
    "lsvmSearch = GridSearchCV(SVC(kernel='linear')\n",
    "                          ,{'C':[0.01,0.1,1,10,100]}\n",
    "                          ,cv=10)\n",
    "lsvmSearch.fit(X_train,y_train)"
   ]
  },
  {
   "cell_type": "code",
   "execution_count": 52,
   "metadata": {},
   "outputs": [
    {
     "data": {
      "text/plain": [
       "0.9301338091768923"
      ]
     },
     "execution_count": 52,
     "metadata": {},
     "output_type": "execute_result"
    }
   ],
   "source": [
    "lsvmSearch.best_score_"
   ]
  },
  {
   "cell_type": "code",
   "execution_count": 54,
   "metadata": {},
   "outputs": [
    {
     "data": {
      "text/plain": [
       "{'C': 0.1}"
      ]
     },
     "execution_count": 54,
     "metadata": {},
     "output_type": "execute_result"
    }
   ],
   "source": [
    "lsvmSearch.best_params_"
   ]
  },
  {
   "cell_type": "code",
   "execution_count": 55,
   "metadata": {},
   "outputs": [
    {
     "data": {
      "text/plain": [
       "0.9327286470143613"
      ]
     },
     "execution_count": 55,
     "metadata": {},
     "output_type": "execute_result"
    }
   ],
   "source": [
    "lsvmSearch.score(X_test,y_test)"
   ]
  },
  {
   "cell_type": "code",
   "execution_count": 56,
   "metadata": {},
   "outputs": [],
   "source": [
    "##### end linear SVM"
   ]
  },
  {
   "cell_type": "code",
   "execution_count": 57,
   "metadata": {},
   "outputs": [],
   "source": [
    "###### rbf SVM"
   ]
  },
  {
   "cell_type": "code",
   "execution_count": 63,
   "metadata": {},
   "outputs": [
    {
     "data": {
      "text/plain": [
       "GridSearchCV(cv=10, estimator=SVC(), param_grid={'C': [0.01, 0.1, 1, 10, 100]})"
      ]
     },
     "execution_count": 63,
     "metadata": {},
     "output_type": "execute_result"
    }
   ],
   "source": [
    "rsvmSearch = GridSearchCV(SVC(kernel='rbf')\n",
    "                          ,{'C':[0.01,0.1,1,10,100]}\n",
    "                          ,cv=10)\n",
    "rsvmSearch.fit(X_train,y_train)"
   ]
  },
  {
   "cell_type": "code",
   "execution_count": 67,
   "metadata": {},
   "outputs": [
    {
     "data": {
      "text/plain": [
       "0.9737920985843733"
      ]
     },
     "execution_count": 67,
     "metadata": {},
     "output_type": "execute_result"
    }
   ],
   "source": [
    "rsvmSearch.best_score_"
   ]
  },
  {
   "cell_type": "code",
   "execution_count": 68,
   "metadata": {},
   "outputs": [
    {
     "data": {
      "text/plain": [
       "{'C': 10}"
      ]
     },
     "execution_count": 68,
     "metadata": {},
     "output_type": "execute_result"
    }
   ],
   "source": [
    "rsvmSearch.best_params_"
   ]
  },
  {
   "cell_type": "code",
   "execution_count": 69,
   "metadata": {},
   "outputs": [
    {
     "data": {
      "text/plain": [
       "0.9712773998488284"
      ]
     },
     "execution_count": 69,
     "metadata": {},
     "output_type": "execute_result"
    }
   ],
   "source": [
    "rsvmSearch.score(X_test,y_test)"
   ]
  },
  {
   "cell_type": "code",
   "execution_count": 76,
   "metadata": {},
   "outputs": [],
   "source": [
    "#### end RBF SVN\n",
    "\n",
    "#### summary problem is better fit on non linear kernel #### so this problem probably not in linear space ###"
   ]
  },
  {
   "cell_type": "code",
   "execution_count": 145,
   "metadata": {},
   "outputs": [],
   "source": [
    "##### predictPipeLine\n",
    "def preprocessPredData(d):\n",
    "    ## try change to int\n",
    "    try:\n",
    "        ## normalize data\n",
    "        ret = int(d)/255\n",
    "        ## value clipping \n",
    "        if(d > 1):\n",
    "            return 1\n",
    "        if(d < 0):\n",
    "            return 0\n",
    "        return ret\n",
    "    ## if cannot change to 0\n",
    "    except:\n",
    "        return 0\n",
    "\n",
    "def predict(data,model):\n",
    "    ### pleas pass pandas or nparray\n",
    "    if( not(isinstance(data, pd.DataFrame) or  isinstance(data, pd.Series) or isinstance(data, np.array))):\n",
    "        raise ('not pandas or np_array')\n",
    "\n",
    "    #####\n",
    "    \n",
    "    ##process data in this block or use default below\n",
    "\n",
    "    #####\n",
    "\n",
    "    #### check dimension\n",
    "    tmp = np.array(data)\n",
    "    dims = tmp.ndim\n",
    "\n",
    "    if(dims == 1):\n",
    "        try:\n",
    "            tmp = tmp.reshape(1,784)\n",
    "        except:\n",
    "            raise('mismatch Length (default:784)')\n",
    "    else:\n",
    "        if(dims !=2):\n",
    "            raise('data dimension error')\n",
    "    #### preprocessing data\n",
    "    tmp = np.vectorize(preprocessPredData)(tmp)\n",
    "    \n",
    "    return model.predict(tmp)\n",
    "###"
   ]
  },
  {
   "cell_type": "code",
   "execution_count": 146,
   "metadata": {},
   "outputs": [
    {
     "data": {
      "text/plain": [
       "array([6, 9])"
      ]
     },
     "execution_count": 146,
     "metadata": {},
     "output_type": "execute_result"
    }
   ],
   "source": [
    "### test pipe on unprocessed data \n",
    "predict(df.drop(0,axis=1).iloc[[0,20]],rsvmSearch)\n",
    "# predict(df.drop(0),rsvmSearch)\n",
    "#####\n"
   ]
  },
  {
   "cell_type": "markdown",
   "metadata": {},
   "source": [
    "## Classify Using PCA"
   ]
  },
  {
   "cell_type": "code",
   "execution_count": 153,
   "metadata": {},
   "outputs": [],
   "source": [
    "pca = PCA(svd_solver='full')"
   ]
  },
  {
   "cell_type": "code",
   "execution_count": 154,
   "metadata": {},
   "outputs": [],
   "source": [
    "# set the tolerance to a large value to make the example faster\n",
    "pipeSVC = SVC(kernel='rbf')\n",
    "pipe = Pipeline(steps=[('pca', pca), ('SVC', pipeSVC)])"
   ]
  },
  {
   "cell_type": "code",
   "execution_count": 156,
   "metadata": {},
   "outputs": [
    {
     "data": {
      "text/plain": [
       "GridSearchCV(cv=10,\n",
       "             estimator=Pipeline(steps=[('pca', PCA(svd_solver='full')),\n",
       "                                       ('SVC', SVC())]),\n",
       "             n_jobs=-1,\n",
       "             param_grid={'SVC__C': [0.1, 1, 10],\n",
       "                         'pca__n_components': [0.95, 0.99]})"
      ]
     },
     "execution_count": 156,
     "metadata": {},
     "output_type": "execute_result"
    }
   ],
   "source": [
    "param_grid = {\n",
    "    'pca__n_components': [0.95,0.99],\n",
    "    'SVC__C': [0.1,1,10]\n",
    "}\n",
    "searchSVCPipe = GridSearchCV(pipe, param_grid, n_jobs=-1,cv=10)\n",
    "searchSVCPipe.fit(X_train, y_train)"
   ]
  },
  {
   "cell_type": "code",
   "execution_count": 157,
   "metadata": {},
   "outputs": [
    {
     "data": {
      "text/plain": [
       "{'SVC__C': 10, 'pca__n_components': 0.95}"
      ]
     },
     "execution_count": 157,
     "metadata": {},
     "output_type": "execute_result"
    }
   ],
   "source": [
    "searchSVCPipe.best_params_"
   ]
  },
  {
   "cell_type": "code",
   "execution_count": 158,
   "metadata": {},
   "outputs": [
    {
     "data": {
      "text/plain": [
       "0.9753043065588004"
      ]
     },
     "execution_count": 158,
     "metadata": {},
     "output_type": "execute_result"
    }
   ],
   "source": [
    "searchSVCPipe.best_score_"
   ]
  },
  {
   "cell_type": "code",
   "execution_count": 161,
   "metadata": {},
   "outputs": [
    {
     "data": {
      "text/plain": [
       "0.9750566893424036"
      ]
     },
     "execution_count": 161,
     "metadata": {},
     "output_type": "execute_result"
    }
   ],
   "source": [
    "searchSVCPipe.score(X_test,y_test)"
   ]
  },
  {
   "cell_type": "code",
   "execution_count": 162,
   "metadata": {},
   "outputs": [],
   "source": [
    "with open('SVC97.5Acc_trainedPipe.pkl', 'wb') as file:\n",
    "    pickle.dump(searchSVCPipe,file)"
   ]
  },
  {
   "cell_type": "code",
   "execution_count": 163,
   "metadata": {},
   "outputs": [],
   "source": [
    "###########"
   ]
  },
  {
   "cell_type": "code",
   "execution_count": 193,
   "metadata": {},
   "outputs": [],
   "source": [
    "findBestExplainVariance =  Pipeline(steps=[('pca', PCA(svd_solver='full')), ('SVC', SVC(C=10))])"
   ]
  },
  {
   "cell_type": "code",
   "execution_count": 194,
   "metadata": {},
   "outputs": [
    {
     "data": {
      "text/plain": [
       "GridSearchCV(cv=10,\n",
       "             estimator=Pipeline(steps=[('pca', PCA(svd_solver='full')),\n",
       "                                       ('SVC', SVC(C=10))]),\n",
       "             n_jobs=-1, param_grid={'pca__n_components': [0.8, 0.9, 0.95]})"
      ]
     },
     "execution_count": 194,
     "metadata": {},
     "output_type": "execute_result"
    }
   ],
   "source": [
    "param_grid = {\n",
    "    'pca__n_components': [0.8,0.9,0.95],\n",
    "}\n",
    "findBestExplainVariance = GridSearchCV(findBestExplainVariance, param_grid, n_jobs=-1,cv=10)\n",
    "findBestExplainVariance.fit(X_train, y_train)"
   ]
  },
  {
   "cell_type": "code",
   "execution_count": 197,
   "metadata": {},
   "outputs": [
    {
     "data": {
      "text/plain": [
       "0.9776354320922991"
      ]
     },
     "execution_count": 197,
     "metadata": {},
     "output_type": "execute_result"
    }
   ],
   "source": [
    "findBestExplainVariance.best_score_"
   ]
  },
  {
   "cell_type": "code",
   "execution_count": 198,
   "metadata": {},
   "outputs": [
    {
     "data": {
      "text/plain": [
       "{'pca__n_components': 0.8}"
      ]
     },
     "execution_count": 198,
     "metadata": {},
     "output_type": "execute_result"
    }
   ],
   "source": [
    "findBestExplainVariance.best_params_"
   ]
  },
  {
   "cell_type": "code",
   "execution_count": 195,
   "metadata": {},
   "outputs": [
    {
     "data": {
      "text/plain": [
       "0.9755605946082136"
      ]
     },
     "execution_count": 195,
     "metadata": {},
     "output_type": "execute_result"
    }
   ],
   "source": [
    "findBestExplainVariance.score(X_test,y_test)"
   ]
  },
  {
   "cell_type": "code",
   "execution_count": 200,
   "metadata": {},
   "outputs": [
    {
     "data": {
      "text/plain": [
       "(1, 44)"
      ]
     },
     "execution_count": 200,
     "metadata": {},
     "output_type": "execute_result"
    }
   ],
   "source": [
    "findBestExplainVariance.best_estimator_['pca'].transform(df.loc[[0]].drop(0,axis=1)).shape"
   ]
  },
  {
   "cell_type": "code",
   "execution_count": 201,
   "metadata": {},
   "outputs": [],
   "source": [
    "##### best explained variance embedding = ~0.8"
   ]
  },
  {
   "cell_type": "markdown",
   "metadata": {},
   "source": [
    "## end"
   ]
  },
  {
   "cell_type": "markdown",
   "metadata": {},
   "source": [
    "## deskew preprocessing"
   ]
  },
  {
   "cell_type": "markdown",
   "metadata": {},
   "source": [
    "#### change tabular to img format"
   ]
  },
  {
   "cell_type": "code",
   "execution_count": 313,
   "metadata": {},
   "outputs": [],
   "source": [
    "import cv2\n",
    "def rowTOBWimg(d):\n",
    "    return np.array(d).reshape(28,28)\n"
   ]
  },
  {
   "cell_type": "code",
   "execution_count": 333,
   "metadata": {},
   "outputs": [],
   "source": [
    "## multiply by 255 to get initial value back"
   ]
  },
  {
   "cell_type": "code",
   "execution_count": 318,
   "metadata": {},
   "outputs": [
    {
     "name": "stderr",
     "output_type": "stream",
     "text": [
      "<ipython-input-318-e1b60c9c52cf>:1: SettingWithCopyWarning: \n",
      "A value is trying to be set on a copy of a slice from a DataFrame.\n",
      "Try using .loc[row_indexer,col_indexer] = value instead\n",
      "\n",
      "See the caveats in the documentation: https://pandas.pydata.org/pandas-docs/stable/user_guide/indexing.html#returning-a-view-versus-a-copy\n",
      "  X_train['pic'] = (X_train*255).apply(rowTOBWimg,axis=1)\n"
     ]
    }
   ],
   "source": [
    "X_train['pic'] = (X_train*255).apply(rowTOBWimg,axis=1)"
   ]
  },
  {
   "cell_type": "code",
   "execution_count": 319,
   "metadata": {},
   "outputs": [],
   "source": [
    "X_train_pic = X_train[['pic']]"
   ]
  },
  {
   "cell_type": "code",
   "execution_count": 322,
   "metadata": {},
   "outputs": [
    {
     "name": "stderr",
     "output_type": "stream",
     "text": [
      "<ipython-input-322-c7c9929267e6>:1: SettingWithCopyWarning: \n",
      "A value is trying to be set on a copy of a slice from a DataFrame.\n",
      "Try using .loc[row_indexer,col_indexer] = value instead\n",
      "\n",
      "See the caveats in the documentation: https://pandas.pydata.org/pandas-docs/stable/user_guide/indexing.html#returning-a-view-versus-a-copy\n",
      "  X_test['pic'] = (X_test*255).apply(rowTOBWimg,axis=1)\n"
     ]
    }
   ],
   "source": [
    "X_test['pic'] = (X_test*255).apply(rowTOBWimg,axis=1)"
   ]
  },
  {
   "cell_type": "code",
   "execution_count": 323,
   "metadata": {},
   "outputs": [],
   "source": [
    "X_test_pic = X_test[['pic']]"
   ]
  },
  {
   "cell_type": "code",
   "execution_count": 324,
   "metadata": {},
   "outputs": [],
   "source": [
    "with open('train_test_splittedData_pic.pkl', 'wb') as file:\n",
    "    pickle.dump([X_train_pic, X_test_pic, y_train, y_test],file)"
   ]
  },
  {
   "cell_type": "markdown",
   "metadata": {},
   "source": [
    "#### also save for when doing CNN"
   ]
  },
  {
   "cell_type": "markdown",
   "metadata": {},
   "source": [
    "#####  tabular to 2d array end"
   ]
  },
  {
   "cell_type": "markdown",
   "metadata": {},
   "source": [
    "## deskewing start"
   ]
  },
  {
   "cell_type": "code",
   "execution_count": 327,
   "metadata": {},
   "outputs": [],
   "source": [
    "### by cv2\n",
    "SZ = 28\n",
    "affine_flags = cv2.WARP_INVERSE_MAP|cv2.INTER_LINEAR\n",
    "def deskew(img):\n",
    "    m = cv2.moments(img)\n",
    "    if abs(m['mu02']) < 1e-2:\n",
    "        return img.copy()\n",
    "    skew = m['mu11']/m['mu02']\n",
    "    M = np.float32([[1, skew, -0.5*SZ*skew], [0, 1, 0]])\n",
    "    img = cv2.warpAffine(img,M,(SZ, SZ),flags=affine_flags)\n",
    "    return img"
   ]
  },
  {
   "cell_type": "code",
   "execution_count": 328,
   "metadata": {},
   "outputs": [],
   "source": [
    "X_train_pic_deskewed = X_train_pic.copy()\n",
    "X_train_pic_deskewed['pic'] = X_train_pic_deskewed['pic'].apply(deskew)"
   ]
  },
  {
   "cell_type": "code",
   "execution_count": 329,
   "metadata": {},
   "outputs": [],
   "source": [
    "X_test_pic_deskewed = X_test_pic.copy()\n",
    "X_test_pic_deskewed['pic'] = X_test_pic_deskewed['pic'].apply(deskew)"
   ]
  },
  {
   "cell_type": "markdown",
   "metadata": {},
   "source": [
    "## deskewed end"
   ]
  },
  {
   "cell_type": "markdown",
   "metadata": {},
   "source": [
    "# flatten for training SVM"
   ]
  },
  {
   "cell_type": "code",
   "execution_count": 330,
   "metadata": {},
   "outputs": [],
   "source": [
    "X_train_pic_deskewed_flatten = X_train_pic_deskewed.apply(lambda d: d['pic'].flatten(),result_type='expand',axis=1)"
   ]
  },
  {
   "cell_type": "code",
   "execution_count": 331,
   "metadata": {},
   "outputs": [],
   "source": [
    "X_test_pic_deskewed_flatten = X_test_pic_deskewed.apply(lambda d: d['pic'].flatten(),result_type='expand',axis=1)"
   ]
  },
  {
   "cell_type": "code",
   "execution_count": null,
   "metadata": {},
   "outputs": [],
   "source": [
    "#normalize"
   ]
  },
  {
   "cell_type": "code",
   "execution_count": 337,
   "metadata": {},
   "outputs": [],
   "source": [
    "X_train_pic_deskewed_flatten = X_train_pic_deskewed_flatten/255\n",
    "X_test_pic_deskewed_flatten = X_test_pic_deskewed_flatten/255"
   ]
  },
  {
   "cell_type": "code",
   "execution_count": null,
   "metadata": {},
   "outputs": [],
   "source": [
    "#####"
   ]
  },
  {
   "cell_type": "code",
   "execution_count": null,
   "metadata": {},
   "outputs": [],
   "source": [
    "#### test rbf SVM without further processing"
   ]
  },
  {
   "cell_type": "code",
   "execution_count": 342,
   "metadata": {},
   "outputs": [
    {
     "data": {
      "text/plain": [
       "GridSearchCV(cv=10, estimator=SVC(), n_jobs=-1, param_grid={'C': [1, 10, 100]})"
      ]
     },
     "execution_count": 342,
     "metadata": {},
     "output_type": "execute_result"
    }
   ],
   "source": [
    "deskewedrSVMSearch = GridSearchCV(SVC(kernel='rbf')\n",
    "                          ,{'C':[1,10,100]}\n",
    "                          ,cv=10,n_jobs=-1)\n",
    "deskewedrSVMSearch.fit(X_train_pic_deskewed_flatten,y_train)"
   ]
  },
  {
   "cell_type": "code",
   "execution_count": 343,
   "metadata": {},
   "outputs": [
    {
     "data": {
      "text/plain": [
       "{'C': 10}"
      ]
     },
     "execution_count": 343,
     "metadata": {},
     "output_type": "execute_result"
    }
   ],
   "source": [
    "deskewedrSVMSearch.best_params_"
   ]
  },
  {
   "cell_type": "code",
   "execution_count": 344,
   "metadata": {},
   "outputs": [
    {
     "data": {
      "text/plain": [
       "0.9770684433820763"
      ]
     },
     "execution_count": 344,
     "metadata": {},
     "output_type": "execute_result"
    }
   ],
   "source": [
    "deskewedrSVMSearch.best_score_"
   ]
  },
  {
   "cell_type": "code",
   "execution_count": 345,
   "metadata": {},
   "outputs": [
    {
     "data": {
      "text/plain": [
       "0.9805996472663139"
      ]
     },
     "execution_count": 345,
     "metadata": {},
     "output_type": "execute_result"
    }
   ],
   "source": [
    "deskewedrSVMSearch.score(X_test_pic_deskewed_flatten,y_test)\n",
    "### 98 percent Yeahhhh"
   ]
  },
  {
   "cell_type": "code",
   "execution_count": 346,
   "metadata": {},
   "outputs": [
    {
     "data": {
      "text/plain": [
       "array([[386,   0,   0,   1,   1,   0,   1,   0,   0,   0],\n",
       "       [  0, 439,   2,   0,   0,   1,   0,   3,   1,   0],\n",
       "       [  0,   0, 389,   0,   1,   0,   0,   1,   1,   1],\n",
       "       [  1,   1,   3, 390,   0,   2,   0,   0,   2,   2],\n",
       "       [  1,   1,   0,   0, 370,   0,   1,   1,   1,   7],\n",
       "       [  0,   0,   1,   2,   0, 343,   0,   0,   2,   2],\n",
       "       [  0,   0,   0,   0,   1,   1, 402,   0,   1,   0],\n",
       "       [  0,   0,   2,   0,   0,   0,   0, 416,   0,   3],\n",
       "       [  1,   0,   3,   2,   2,   1,   1,   1, 369,   0],\n",
       "       [  1,   0,   0,   3,   7,   0,   0,   1,   2, 388]])"
      ]
     },
     "execution_count": 346,
     "metadata": {},
     "output_type": "execute_result"
    }
   ],
   "source": [
    "confusion_matrix(y_true=y_test,y_pred=deskewedrSVMSearch.predict(X_test_pic_deskewed_flatten))"
   ]
  },
  {
   "cell_type": "markdown",
   "metadata": {},
   "source": [
    "### deskewed without PCA end"
   ]
  },
  {
   "cell_type": "code",
   "execution_count": 347,
   "metadata": {},
   "outputs": [
    {
     "data": {
      "text/plain": [
       "GridSearchCV(cv=10,\n",
       "             estimator=Pipeline(steps=[('pca', PCA(svd_solver='full')),\n",
       "                                       ('SVC', SVC())]),\n",
       "             n_jobs=-1,\n",
       "             param_grid={'SVC__C': [1, 10],\n",
       "                         'pca__n_components': [0.8, 0.9, 95, 0.99]})"
      ]
     },
     "execution_count": 347,
     "metadata": {},
     "output_type": "execute_result"
    }
   ],
   "source": [
    "deskewedPipe = Pipeline(steps=[('pca', PCA(svd_solver='full')), ('SVC', SVC())])\n",
    "param_grid = {\n",
    "    'pca__n_components': [0.8,0.9,95,0.99],\n",
    "    'SVC__C': [1,10]\n",
    "}\n",
    "searchDeskewedPipe = GridSearchCV(deskewedPipe, param_grid, n_jobs=-1,cv=10)\n",
    "searchDeskewedPipe.fit(X_train_pic_deskewed_flatten,y_train)"
   ]
  },
  {
   "cell_type": "code",
   "execution_count": 348,
   "metadata": {},
   "outputs": [
    {
     "data": {
      "text/plain": [
       "{'SVC__C': 10, 'pca__n_components': 95}"
      ]
     },
     "execution_count": 348,
     "metadata": {},
     "output_type": "execute_result"
    }
   ],
   "source": [
    "searchDeskewedPipe.best_params_"
   ]
  },
  {
   "cell_type": "code",
   "execution_count": 349,
   "metadata": {},
   "outputs": [
    {
     "data": {
      "text/plain": [
       "0.9801553554621221"
      ]
     },
     "execution_count": 349,
     "metadata": {},
     "output_type": "execute_result"
    }
   ],
   "source": [
    "searchDeskewedPipe.best_score_"
   ]
  },
  {
   "cell_type": "code",
   "execution_count": 350,
   "metadata": {},
   "outputs": [
    {
     "data": {
      "text/plain": [
       "0.982111363063744"
      ]
     },
     "execution_count": 350,
     "metadata": {},
     "output_type": "execute_result"
    }
   ],
   "source": [
    "searchDeskewedPipe.score(X_test_pic_deskewed_flatten,y_test)"
   ]
  },
  {
   "cell_type": "code",
   "execution_count": 351,
   "metadata": {},
   "outputs": [],
   "source": [
    "with open('SVC98.2Acc_trainedDeskewedPipe.pkl', 'wb') as file:\n",
    "    pickle.dump(searchDeskewedPipe,file)"
   ]
  },
  {
   "cell_type": "code",
   "execution_count": 352,
   "metadata": {},
   "outputs": [],
   "source": [
    "##### can still search and do pixel jitter to improve performance"
   ]
  },
  {
   "cell_type": "code",
   "execution_count": 363,
   "metadata": {},
   "outputs": [],
   "source": [
    "### deskewed prediction feeding function \n",
    "### or can be merge with previous prediction fuction and add condition to process deskew\n",
    "\n",
    "\n",
    "##### pipe line ###\n",
    "### feed in shape (784,)\n",
    "### feed in shape (*,784)\n",
    "### reshape into (*,28,28)\n",
    "### apply deskew and flatten\n",
    "\n",
    "def predictWithDeskew(data,model):\n",
    "    ### pleas pass pandas or nparray\n",
    "    if( not(isinstance(data, pd.DataFrame) or  isinstance(data, pd.Series) or isinstance(data, np.array))):\n",
    "        raise ('not pandas or np_array')\n",
    "\n",
    "    #####\n",
    "    \n",
    "    ##process data in this block or use default below\n",
    "\n",
    "    #####\n",
    "\n",
    "    #### check dimension\n",
    "    tmp = np.array(data)\n",
    "    dims = tmp.ndim\n",
    "\n",
    "    if(dims == 1):\n",
    "        try:\n",
    "            tmp = tmp.reshape(1,784)\n",
    "        except:\n",
    "            raise('mismatch Length (default:784)')\n",
    "    else:\n",
    "        if(dims !=2):\n",
    "            raise('data dimension error')\n",
    "    #### preprocessing data\n",
    "    tmp = np.vectorize(preprocessPredData)(tmp)\n",
    "    #### to be specific this block ###\n",
    "    # deskewed part \n",
    "    # if(deskew condition): #dont forget indent\n",
    "    tmp = tmp.reshape(tmp.shape[0],28,28)\n",
    "    tmp = [deskew(i).flatten() for i in tmp]\n",
    "    #####################\n",
    "    return model.predict(tmp)\n",
    "###"
   ]
  },
  {
   "cell_type": "code",
   "execution_count": 364,
   "metadata": {},
   "outputs": [
    {
     "data": {
      "text/plain": [
       "array([6])"
      ]
     },
     "execution_count": 364,
     "metadata": {},
     "output_type": "execute_result"
    }
   ],
   "source": [
    "##### pipe line  test ###\n",
    "# testdata1 = df.drop(0,axis=1).loc[[0,1]]\n",
    "# predictWithDeskew(testdata1,searchDeskewedPipe)\n",
    "testdata2 = df.drop(0,axis=1).loc[0]\n",
    "predictWithDeskew(testdata2,searchDeskewedPipe)"
   ]
  },
  {
   "cell_type": "code",
   "execution_count": null,
   "metadata": {},
   "outputs": [],
   "source": []
  },
  {
   "cell_type": "code",
   "execution_count": 365,
   "metadata": {},
   "outputs": [],
   "source": [
    "with open('train_test_splittedData_pic.pkl', 'rb') as file:\n",
    "    check = pickle.load(file)"
   ]
  },
  {
   "cell_type": "code",
   "execution_count": 367,
   "metadata": {},
   "outputs": [
    {
     "data": {
      "text/plain": [
       "[                                                     pic\n",
       " 15810  [[0.0, 0.0, 0.0, 0.0, 0.0, 0.0, 0.0, 0.0, 0.0,...\n",
       " 15609  [[0.0, 0.0, 0.0, 0.0, 0.0, 0.0, 0.0, 0.0, 0.0,...\n",
       " 6747   [[0.0, 0.0, 0.0, 0.0, 0.0, 0.0, 0.0, 0.0, 0.0,...\n",
       " 7925   [[0.0, 0.0, 0.0, 0.0, 0.0, 0.0, 0.0, 0.0, 0.0,...\n",
       " 9656   [[0.0, 0.0, 0.0, 0.0, 0.0, 0.0, 0.0, 0.0, 0.0,...\n",
       " ...                                                  ...\n",
       " 10178  [[0.0, 0.0, 0.0, 0.0, 0.0, 0.0, 0.0, 0.0, 0.0,...\n",
       " 11024  [[0.0, 0.0, 0.0, 0.0, 0.0, 0.0, 0.0, 0.0, 0.0,...\n",
       " 10779  [[0.0, 0.0, 0.0, 0.0, 0.0, 0.0, 0.0, 0.0, 0.0,...\n",
       " 19780  [[0.0, 0.0, 0.0, 0.0, 0.0, 0.0, 0.0, 0.0, 0.0,...\n",
       " 18895  [[0.0, 0.0, 0.0, 0.0, 0.0, 0.0, 0.0, 0.0, 0.0,...\n",
       " \n",
       " [15873 rows x 1 columns],\n",
       "                                                      pic\n",
       " 5909   [[0.0, 0.0, 0.0, 0.0, 0.0, 0.0, 0.0, 0.0, 0.0,...\n",
       " 17141  [[0.0, 0.0, 0.0, 0.0, 0.0, 0.0, 0.0, 0.0, 0.0,...\n",
       " 9631   [[0.0, 0.0, 0.0, 0.0, 0.0, 0.0, 0.0, 0.0, 0.0,...\n",
       " 12034  [[0.0, 0.0, 0.0, 0.0, 0.0, 0.0, 0.0, 0.0, 0.0,...\n",
       " 16418  [[0.0, 0.0, 0.0, 0.0, 0.0, 0.0, 0.0, 0.0, 0.0,...\n",
       " ...                                                  ...\n",
       " 17636  [[0.0, 0.0, 0.0, 0.0, 0.0, 0.0, 0.0, 0.0, 0.0,...\n",
       " 1947   [[0.0, 0.0, 0.0, 0.0, 0.0, 0.0, 0.0, 0.0, 0.0,...\n",
       " 6995   [[0.0, 0.0, 0.0, 0.0, 0.0, 0.0, 0.0, 0.0, 0.0,...\n",
       " 2289   [[0.0, 0.0, 0.0, 0.0, 0.0, 0.0, 0.0, 0.0, 0.0,...\n",
       " 14519  [[0.0, 0.0, 0.0, 0.0, 0.0, 0.0, 0.0, 0.0, 0.0,...\n",
       " \n",
       " [3969 rows x 1 columns],\n",
       " 15810    8\n",
       " 15609    1\n",
       " 6747     8\n",
       " 7925     1\n",
       " 9656     0\n",
       "         ..\n",
       " 10178    0\n",
       " 11024    2\n",
       " 10779    0\n",
       " 19780    0\n",
       " 18895    5\n",
       " Name: 0, Length: 15873, dtype: int64,\n",
       " 5909     6\n",
       " 17141    5\n",
       " 9631     7\n",
       " 12034    1\n",
       " 16418    3\n",
       "         ..\n",
       " 17636    5\n",
       " 1947     1\n",
       " 6995     4\n",
       " 2289     1\n",
       " 14519    7\n",
       " Name: 0, Length: 3969, dtype: int64]"
      ]
     },
     "execution_count": 367,
     "metadata": {},
     "output_type": "execute_result"
    }
   ],
   "source": []
  },
  {
   "cell_type": "code",
   "execution_count": null,
   "metadata": {},
   "outputs": [],
   "source": []
  }
 ],
 "metadata": {
  "kernelspec": {
   "display_name": "python3.8",
   "language": "python",
   "name": "python3.8"
  },
  "language_info": {
   "codemirror_mode": {
    "name": "ipython",
    "version": 3
   },
   "file_extension": ".py",
   "mimetype": "text/x-python",
   "name": "python",
   "nbconvert_exporter": "python",
   "pygments_lexer": "ipython3",
   "version": "3.8.5"
  }
 },
 "nbformat": 4,
 "nbformat_minor": 4
}
